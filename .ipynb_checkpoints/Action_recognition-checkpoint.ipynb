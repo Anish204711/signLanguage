{
 "cells": [
  {
   "cell_type": "code",
   "execution_count": 8,
   "id": "44f52b47",
   "metadata": {},
   "outputs": [],
   "source": [
    "#!pip install tensorflow==2.4.1 tensorflow-gpu==2.4.1 opencv-python  sklearn matplotlib\n",
    "#!pip install mediapipe"
   ]
  },
  {
   "cell_type": "code",
   "execution_count": null,
   "id": "0fe25e0f",
   "metadata": {},
   "outputs": [],
   "source": [
    "\n",
    "\n"
   ]
  },
  {
   "cell_type": "code",
   "execution_count": 9,
   "id": "eae43a36",
   "metadata": {},
   "outputs": [],
   "source": [
    "import cv2\n",
    "import numpy as np\n",
    "import os\n",
    "from matplotlib import pyplot as plt\n",
    "import time\n",
    "import mediapipe as mp\n",
    "import pandas as pd"
   ]
  },
  {
   "cell_type": "code",
   "execution_count": 21,
   "id": "259e00ad",
   "metadata": {},
   "outputs": [],
   "source": [
    "video_path='data/videos'\n",
    "np_data_path='np_data'"
   ]
  },
  {
   "cell_type": "markdown",
   "id": "458e8e05",
   "metadata": {},
   "source": [
    "# Reading csv file"
   ]
  },
  {
   "cell_type": "code",
   "execution_count": 11,
   "id": "e4ce4f20",
   "metadata": {},
   "outputs": [
    {
     "name": "stdout",
     "output_type": "stream",
     "text": [
      "            gloss  video_id                                                url\n",
      "0            book     69241       http://aslbricks.org/New/ASL-Videos/book.mp4\n",
      "1            book      7069  https://signstock.blob.core.windows.net/signsc...\n",
      "2            book      7068  https://s3-us-west-1.amazonaws.com/files.start...\n",
      "3            book      7070  https://media.asldeafined.com/vocabulary/14666...\n",
      "4            book      7099     http://www.aslsearch.com/signs/videos/book.mp4\n",
      "...           ...       ...                                                ...\n",
      "11975  wheelchair     63047  https://www.signingsavvy.com/signs/mp4/5/5233.mp4\n",
      "11976  wheelchair     63050  http://www.aslsearch.com/signs/videos/wheelcha...\n",
      "11977     whistle     63186  https://media.spreadthesign.com/video/mp4/13/9...\n",
      "11978     whistle     63188  https://www.signingsavvy.com/signs/mp4/9/9961.mp4\n",
      "11979     whistle     63190  http://www.aslsearch.com/signs/videos/whistle.mp4\n",
      "\n",
      "[11980 rows x 3 columns]\n"
     ]
    }
   ],
   "source": [
    "df = pd.read_csv('features_df.csv')\n",
    "print(df)"
   ]
  },
  {
   "cell_type": "code",
   "execution_count": 19,
   "id": "d757c332",
   "metadata": {},
   "outputs": [
    {
     "name": "stdout",
     "output_type": "stream",
     "text": [
      "[69241, 7069, 7068, 7070, 7099, 7074]\n"
     ]
    }
   ],
   "source": [
    "filtered_df = df[df['gloss'] == 'book']\n",
    "list_data=list(filtered_df['video_id'])\n",
    "\n",
    "print(list_data)"
   ]
  },
  {
   "cell_type": "markdown",
   "id": "db8e224d",
   "metadata": {},
   "source": [
    "# Creating folder for data"
   ]
  },
  {
   "cell_type": "code",
   "execution_count": 24,
   "id": "3911562d",
   "metadata": {},
   "outputs": [
    {
     "name": "stdout",
     "output_type": "stream",
     "text": [
      "['book' 'drink' 'computer' ... 'weigh' 'wheelchair' 'whistle']\n"
     ]
    }
   ],
   "source": [
    "total_class= df['gloss'].unique()\n",
    "print(total_class)"
   ]
  },
  {
   "cell_type": "code",
   "execution_count": 29,
   "id": "febe616c",
   "metadata": {},
   "outputs": [
    {
     "ename": "NameError",
     "evalue": "name 'path' is not defined",
     "output_type": "error",
     "traceback": [
      "\u001b[1;31m---------------------------------------------------------------------------\u001b[0m",
      "\u001b[1;31mNameError\u001b[0m                                 Traceback (most recent call last)",
      "Input \u001b[1;32mIn [29]\u001b[0m, in \u001b[0;36m<cell line: 1>\u001b[1;34m()\u001b[0m\n\u001b[0;32m      1\u001b[0m \u001b[38;5;28;01mfor\u001b[39;00m item \u001b[38;5;129;01min\u001b[39;00m total_class:\n\u001b[1;32m----> 2\u001b[0m     folder_path \u001b[38;5;241m=\u001b[39m os\u001b[38;5;241m.\u001b[39mpath\u001b[38;5;241m.\u001b[39mjoin(\u001b[43mpath\u001b[49m, item)\n\u001b[0;32m      3\u001b[0m     os\u001b[38;5;241m.\u001b[39mmakedirs(folder_path)\n",
      "\u001b[1;31mNameError\u001b[0m: name 'path' is not defined"
     ]
    }
   ],
   "source": [
    "for item in total_class:\n",
    "    folder_path = os.path.join(np_data_path, item)\n",
    "    os.makedirs(folder_path)\n"
   ]
  },
  {
   "cell_type": "code",
   "execution_count": null,
   "id": "12bb69de",
   "metadata": {},
   "outputs": [],
   "source": [
    "def features"
   ]
  },
  {
   "cell_type": "code",
   "execution_count": 45,
   "id": "ca977320",
   "metadata": {},
   "outputs": [],
   "source": [
    "for item in list_data:\n",
    "    class_folder=df[df['video_id'] == item]\n",
    "    class_folder=list(class_folder['gloss'])  \n",
    "    folder_path = os.path.join(np_data_path,class_folder[0],str(item) )\n",
    "    os.makedirs(folder_path)"
   ]
  },
  {
   "cell_type": "code",
   "execution_count": null,
   "id": "43fe2370",
   "metadata": {},
   "outputs": [],
   "source": []
  },
  {
   "cell_type": "code",
   "execution_count": null,
   "id": "806aaa8e",
   "metadata": {},
   "outputs": [],
   "source": [
    "cap = cv2.VideoCapture('data/videos/00339.mp4')\n",
    "nframe = cap.get(cv2.CAP_PROP_FRAME_COUNT)\n",
    "print(nframe)"
   ]
  },
  {
   "cell_type": "code",
   "execution_count": null,
   "id": "551ea51f",
   "metadata": {},
   "outputs": [],
   "source": [
    "mp_drawing = mp.solutions.drawing_utils\n",
    "mp_pose = mp.solutions.pose\n",
    "\n",
    "# Create a Pose instance\n",
    "pose = mp_pose.Pose()\n",
    "\n",
    "# Load the image\n",
    "image_path = \"what-makes-people-happy.jpeg\"\n",
    "image = cv2.imread(image_path)\n",
    "image_rgb = cv2.cvtColor(image, cv2.COLOR_BGR2RGB)\n",
    "\n",
    "# Process the image to extract the key points\n",
    "results = pose.process(image_rgb)\n",
    "\n",
    "# Draw the key points on the image\n",
    "annotated_image = image.copy()\n",
    "mp_drawing.draw_landmarks(\n",
    "    annotated_image, results.pose_landmarks, mp_pose.POSE_CONNECTIONS\n",
    ")\n",
    "\n",
    "# Display the image with key points\n",
    "cv2.imshow(\"Image with Keypoints\", annotated_image)\n",
    "cv2.waitKey(0)\n",
    "cv2.destroyAllWindows()\n",
    "\n",
    "# Release the resources\n",
    "pose.close()\n",
    "\n",
    "\n",
    "\n",
    "\n"
   ]
  },
  {
   "cell_type": "code",
   "execution_count": null,
   "id": "b6ca2356",
   "metadata": {},
   "outputs": [],
   "source": []
  }
 ],
 "metadata": {
  "kernelspec": {
   "display_name": "Python 3 (ipykernel)",
   "language": "python",
   "name": "python3"
  },
  "language_info": {
   "codemirror_mode": {
    "name": "ipython",
    "version": 3
   },
   "file_extension": ".py",
   "mimetype": "text/x-python",
   "name": "python",
   "nbconvert_exporter": "python",
   "pygments_lexer": "ipython3",
   "version": "3.9.12"
  }
 },
 "nbformat": 4,
 "nbformat_minor": 5
}
